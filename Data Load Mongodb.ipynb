{
 "cells": [
  {
   "cell_type": "code",
   "execution_count": 2,
   "id": "007ab0d1",
   "metadata": {},
   "outputs": [
    {
     "name": "stdout",
     "output_type": "stream",
     "text": [
      "Collecting pymongo\n",
      "  Downloading pymongo-4.0.1-cp38-cp38-win_amd64.whl (354 kB)\n",
      "Installing collected packages: pymongo\n",
      "Successfully installed pymongo-4.0.1\n",
      "Note: you may need to restart the kernel to use updated packages.\n"
     ]
    },
    {
     "name": "stderr",
     "output_type": "stream",
     "text": [
      "WARNING: You are using pip version 21.3.1; however, version 22.0.3 is available.\n",
      "You should consider upgrading via the 'C:\\Users\\HP\\anaconda3\\python.exe -m pip install --upgrade pip' command.\n"
     ]
    }
   ],
   "source": [
    "pip install pymongo"
   ]
  },
  {
   "cell_type": "code",
   "execution_count": 3,
   "id": "bd5d8667",
   "metadata": {},
   "outputs": [],
   "source": [
    "import pymongo\n",
    "import pandas as pd"
   ]
  },
  {
   "cell_type": "code",
   "execution_count": 4,
   "id": "7b38a974",
   "metadata": {},
   "outputs": [],
   "source": [
    "myclient = pymongo.MongoClient(\"mongodb://localhost:27017/\")\n",
    "mydb = myclient[\"Kijiji_Database\"]\n",
    "mycol = mydb[\"Car_Data\"]"
   ]
  },
  {
   "cell_type": "code",
   "execution_count": 5,
   "id": "db039290",
   "metadata": {},
   "outputs": [],
   "source": [
    "car_df = pd.read_csv('C:/Users/HP/Downloads/kijiji_data_fullset.csv')"
   ]
  },
  {
   "cell_type": "code",
   "execution_count": 6,
   "id": "cd9d8bde",
   "metadata": {},
   "outputs": [],
   "source": [
    "x = mycol.insert_many(car_df.to_dict('records'))"
   ]
  },
  {
   "cell_type": "code",
   "execution_count": 7,
   "id": "40226c48",
   "metadata": {},
   "outputs": [
    {
     "name": "stdout",
     "output_type": "stream",
     "text": [
      "[ObjectId('621d0ef7bf7c8b37415dcf37'), ObjectId('621d0ef7bf7c8b37415dcf38'), ObjectId('621d0ef7bf7c8b37415dcf39'), ObjectId('621d0ef7bf7c8b37415dcf3a'), ObjectId('621d0ef7bf7c8b37415dcf3b'), ObjectId('621d0ef7bf7c8b37415dcf3c'), ObjectId('621d0ef7bf7c8b37415dcf3d'), ObjectId('621d0ef7bf7c8b37415dcf3e'), ObjectId('621d0ef7bf7c8b37415dcf3f'), ObjectId('621d0ef7bf7c8b37415dcf40'), ObjectId('621d0ef7bf7c8b37415dcf41'), ObjectId('621d0ef7bf7c8b37415dcf42'), ObjectId('621d0ef7bf7c8b37415dcf43'), ObjectId('621d0ef7bf7c8b37415dcf44'), ObjectId('621d0ef7bf7c8b37415dcf45'), ObjectId('621d0ef7bf7c8b37415dcf46'), ObjectId('621d0ef7bf7c8b37415dcf47'), ObjectId('621d0ef7bf7c8b37415dcf48'), ObjectId('621d0ef7bf7c8b37415dcf49'), ObjectId('621d0ef7bf7c8b37415dcf4a'), ObjectId('621d0ef7bf7c8b37415dcf4b'), ObjectId('621d0ef7bf7c8b37415dcf4c'), ObjectId('621d0ef7bf7c8b37415dcf4d'), ObjectId('621d0ef7bf7c8b37415dcf4e'), ObjectId('621d0ef7bf7c8b37415dcf4f'), ObjectId('621d0ef7bf7c8b37415dcf50'), ObjectId('621d0ef7bf7c8b37415dcf51'), ObjectId('621d0ef7bf7c8b37415dcf52'), ObjectId('621d0ef7bf7c8b37415dcf53'), ObjectId('621d0ef7bf7c8b37415dcf54'), ObjectId('621d0ef7bf7c8b37415dcf55'), ObjectId('621d0ef7bf7c8b37415dcf56'), ObjectId('621d0ef7bf7c8b37415dcf57'), ObjectId('621d0ef7bf7c8b37415dcf58'), ObjectId('621d0ef7bf7c8b37415dcf59'), ObjectId('621d0ef7bf7c8b37415dcf5a'), ObjectId('621d0ef7bf7c8b37415dcf5b'), ObjectId('621d0ef7bf7c8b37415dcf5c'), ObjectId('621d0ef7bf7c8b37415dcf5d'), ObjectId('621d0ef7bf7c8b37415dcf5e'), ObjectId('621d0ef7bf7c8b37415dcf5f'), ObjectId('621d0ef7bf7c8b37415dcf60'), ObjectId('621d0ef7bf7c8b37415dcf61'), ObjectId('621d0ef7bf7c8b37415dcf62'), ObjectId('621d0ef7bf7c8b37415dcf63'), ObjectId('621d0ef7bf7c8b37415dcf64'), ObjectId('621d0ef7bf7c8b37415dcf65'), ObjectId('621d0ef7bf7c8b37415dcf66'), ObjectId('621d0ef7bf7c8b37415dcf67'), ObjectId('621d0ef7bf7c8b37415dcf68'), ObjectId('621d0ef7bf7c8b37415dcf69'), ObjectId('621d0ef7bf7c8b37415dcf6a'), ObjectId('621d0ef7bf7c8b37415dcf6b'), ObjectId('621d0ef7bf7c8b37415dcf6c'), ObjectId('621d0ef7bf7c8b37415dcf6d'), ObjectId('621d0ef7bf7c8b37415dcf6e'), ObjectId('621d0ef7bf7c8b37415dcf6f'), ObjectId('621d0ef7bf7c8b37415dcf70'), ObjectId('621d0ef7bf7c8b37415dcf71'), ObjectId('621d0ef7bf7c8b37415dcf72'), ObjectId('621d0ef7bf7c8b37415dcf73'), ObjectId('621d0ef7bf7c8b37415dcf74'), ObjectId('621d0ef7bf7c8b37415dcf75'), ObjectId('621d0ef7bf7c8b37415dcf76'), ObjectId('621d0ef7bf7c8b37415dcf77'), ObjectId('621d0ef7bf7c8b37415dcf78'), ObjectId('621d0ef7bf7c8b37415dcf79'), ObjectId('621d0ef7bf7c8b37415dcf7a'), ObjectId('621d0ef7bf7c8b37415dcf7b'), ObjectId('621d0ef7bf7c8b37415dcf7c'), ObjectId('621d0ef7bf7c8b37415dcf7d'), ObjectId('621d0ef7bf7c8b37415dcf7e'), ObjectId('621d0ef7bf7c8b37415dcf7f'), ObjectId('621d0ef7bf7c8b37415dcf80'), ObjectId('621d0ef7bf7c8b37415dcf81'), ObjectId('621d0ef7bf7c8b37415dcf82'), ObjectId('621d0ef7bf7c8b37415dcf83'), ObjectId('621d0ef7bf7c8b37415dcf84'), ObjectId('621d0ef7bf7c8b37415dcf85'), ObjectId('621d0ef7bf7c8b37415dcf86'), ObjectId('621d0ef7bf7c8b37415dcf87'), ObjectId('621d0ef7bf7c8b37415dcf88'), ObjectId('621d0ef7bf7c8b37415dcf89'), ObjectId('621d0ef7bf7c8b37415dcf8a'), ObjectId('621d0ef7bf7c8b37415dcf8b'), ObjectId('621d0ef7bf7c8b37415dcf8c'), ObjectId('621d0ef7bf7c8b37415dcf8d'), ObjectId('621d0ef7bf7c8b37415dcf8e'), ObjectId('621d0ef7bf7c8b37415dcf8f'), ObjectId('621d0ef7bf7c8b37415dcf90'), ObjectId('621d0ef7bf7c8b37415dcf91'), ObjectId('621d0ef7bf7c8b37415dcf92'), ObjectId('621d0ef7bf7c8b37415dcf93'), ObjectId('621d0ef7bf7c8b37415dcf94'), ObjectId('621d0ef7bf7c8b37415dcf95'), ObjectId('621d0ef7bf7c8b37415dcf96'), ObjectId('621d0ef7bf7c8b37415dcf97'), ObjectId('621d0ef7bf7c8b37415dcf98'), ObjectId('621d0ef7bf7c8b37415dcf99'), ObjectId('621d0ef7bf7c8b37415dcf9a'), ObjectId('621d0ef7bf7c8b37415dcf9b'), ObjectId('621d0ef7bf7c8b37415dcf9c'), ObjectId('621d0ef7bf7c8b37415dcf9d'), ObjectId('621d0ef7bf7c8b37415dcf9e'), ObjectId('621d0ef7bf7c8b37415dcf9f'), ObjectId('621d0ef7bf7c8b37415dcfa0'), ObjectId('621d0ef7bf7c8b37415dcfa1'), ObjectId('621d0ef7bf7c8b37415dcfa2'), ObjectId('621d0ef7bf7c8b37415dcfa3'), ObjectId('621d0ef7bf7c8b37415dcfa4'), ObjectId('621d0ef7bf7c8b37415dcfa5'), ObjectId('621d0ef7bf7c8b37415dcfa6'), ObjectId('621d0ef7bf7c8b37415dcfa7'), ObjectId('621d0ef7bf7c8b37415dcfa8'), ObjectId('621d0ef7bf7c8b37415dcfa9'), ObjectId('621d0ef7bf7c8b37415dcfaa'), ObjectId('621d0ef7bf7c8b37415dcfab'), ObjectId('621d0ef7bf7c8b37415dcfac'), ObjectId('621d0ef7bf7c8b37415dcfad'), ObjectId('621d0ef7bf7c8b37415dcfae'), ObjectId('621d0ef7bf7c8b37415dcfaf'), ObjectId('621d0ef7bf7c8b37415dcfb0'), ObjectId('621d0ef7bf7c8b37415dcfb1'), ObjectId('621d0ef7bf7c8b37415dcfb2'), ObjectId('621d0ef7bf7c8b37415dcfb3'), ObjectId('621d0ef7bf7c8b37415dcfb4'), ObjectId('621d0ef7bf7c8b37415dcfb5'), ObjectId('621d0ef7bf7c8b37415dcfb6'), ObjectId('621d0ef7bf7c8b37415dcfb7'), ObjectId('621d0ef7bf7c8b37415dcfb8'), ObjectId('621d0ef7bf7c8b37415dcfb9'), ObjectId('621d0ef7bf7c8b37415dcfba'), ObjectId('621d0ef7bf7c8b37415dcfbb'), ObjectId('621d0ef7bf7c8b37415dcfbc'), ObjectId('621d0ef7bf7c8b37415dcfbd'), ObjectId('621d0ef7bf7c8b37415dcfbe'), ObjectId('621d0ef7bf7c8b37415dcfbf'), ObjectId('621d0ef7bf7c8b37415dcfc0'), ObjectId('621d0ef7bf7c8b37415dcfc1'), ObjectId('621d0ef7bf7c8b37415dcfc2'), ObjectId('621d0ef7bf7c8b37415dcfc3'), ObjectId('621d0ef7bf7c8b37415dcfc4'), ObjectId('621d0ef7bf7c8b37415dcfc5'), ObjectId('621d0ef7bf7c8b37415dcfc6'), ObjectId('621d0ef7bf7c8b37415dcfc7'), ObjectId('621d0ef7bf7c8b37415dcfc8'), ObjectId('621d0ef7bf7c8b37415dcfc9'), ObjectId('621d0ef7bf7c8b37415dcfca'), ObjectId('621d0ef7bf7c8b37415dcfcb'), ObjectId('621d0ef7bf7c8b37415dcfcc'), ObjectId('621d0ef7bf7c8b37415dcfcd'), ObjectId('621d0ef7bf7c8b37415dcfce'), ObjectId('621d0ef7bf7c8b37415dcfcf'), ObjectId('621d0ef7bf7c8b37415dcfd0'), ObjectId('621d0ef7bf7c8b37415dcfd1'), ObjectId('621d0ef7bf7c8b37415dcfd2'), ObjectId('621d0ef7bf7c8b37415dcfd3'), ObjectId('621d0ef7bf7c8b37415dcfd4'), ObjectId('621d0ef7bf7c8b37415dcfd5'), ObjectId('621d0ef7bf7c8b37415dcfd6'), ObjectId('621d0ef7bf7c8b37415dcfd7'), ObjectId('621d0ef7bf7c8b37415dcfd8'), ObjectId('621d0ef7bf7c8b37415dcfd9'), ObjectId('621d0ef7bf7c8b37415dcfda'), ObjectId('621d0ef7bf7c8b37415dcfdb'), ObjectId('621d0ef7bf7c8b37415dcfdc'), ObjectId('621d0ef7bf7c8b37415dcfdd'), ObjectId('621d0ef7bf7c8b37415dcfde'), ObjectId('621d0ef7bf7c8b37415dcfdf'), ObjectId('621d0ef7bf7c8b37415dcfe0'), ObjectId('621d0ef7bf7c8b37415dcfe1'), ObjectId('621d0ef7bf7c8b37415dcfe2'), ObjectId('621d0ef7bf7c8b37415dcfe3'), ObjectId('621d0ef7bf7c8b37415dcfe4'), ObjectId('621d0ef7bf7c8b37415dcfe5'), ObjectId('621d0ef7bf7c8b37415dcfe6'), ObjectId('621d0ef7bf7c8b37415dcfe7'), ObjectId('621d0ef7bf7c8b37415dcfe8'), ObjectId('621d0ef7bf7c8b37415dcfe9'), ObjectId('621d0ef7bf7c8b37415dcfea'), ObjectId('621d0ef7bf7c8b37415dcfeb'), ObjectId('621d0ef7bf7c8b37415dcfec'), ObjectId('621d0ef7bf7c8b37415dcfed'), ObjectId('621d0ef7bf7c8b37415dcfee'), ObjectId('621d0ef7bf7c8b37415dcfef'), ObjectId('621d0ef7bf7c8b37415dcff0'), ObjectId('621d0ef7bf7c8b37415dcff1'), ObjectId('621d0ef7bf7c8b37415dcff2'), ObjectId('621d0ef7bf7c8b37415dcff3'), ObjectId('621d0ef7bf7c8b37415dcff4'), ObjectId('621d0ef7bf7c8b37415dcff5'), ObjectId('621d0ef7bf7c8b37415dcff6'), ObjectId('621d0ef7bf7c8b37415dcff7'), ObjectId('621d0ef7bf7c8b37415dcff8'), ObjectId('621d0ef7bf7c8b37415dcff9'), ObjectId('621d0ef7bf7c8b37415dcffa'), ObjectId('621d0ef7bf7c8b37415dcffb'), ObjectId('621d0ef7bf7c8b37415dcffc'), ObjectId('621d0ef7bf7c8b37415dcffd'), ObjectId('621d0ef7bf7c8b37415dcffe'), ObjectId('621d0ef7bf7c8b37415dcfff'), ObjectId('621d0ef7bf7c8b37415dd000'), ObjectId('621d0ef7bf7c8b37415dd001'), ObjectId('621d0ef7bf7c8b37415dd002'), ObjectId('621d0ef7bf7c8b37415dd003'), ObjectId('621d0ef7bf7c8b37415dd004'), ObjectId('621d0ef7bf7c8b37415dd005'), ObjectId('621d0ef7bf7c8b37415dd006'), ObjectId('621d0ef7bf7c8b37415dd007'), ObjectId('621d0ef7bf7c8b37415dd008'), ObjectId('621d0ef7bf7c8b37415dd009'), ObjectId('621d0ef7bf7c8b37415dd00a'), ObjectId('621d0ef7bf7c8b37415dd00b'), ObjectId('621d0ef7bf7c8b37415dd00c'), ObjectId('621d0ef7bf7c8b37415dd00d'), ObjectId('621d0ef7bf7c8b37415dd00e'), ObjectId('621d0ef7bf7c8b37415dd00f'), ObjectId('621d0ef7bf7c8b37415dd010'), ObjectId('621d0ef7bf7c8b37415dd011'), ObjectId('621d0ef7bf7c8b37415dd012'), ObjectId('621d0ef7bf7c8b37415dd013'), ObjectId('621d0ef7bf7c8b37415dd014'), ObjectId('621d0ef7bf7c8b37415dd015'), ObjectId('621d0ef7bf7c8b37415dd016'), ObjectId('621d0ef7bf7c8b37415dd017'), ObjectId('621d0ef7bf7c8b37415dd018'), ObjectId('621d0ef7bf7c8b37415dd019'), ObjectId('621d0ef7bf7c8b37415dd01a'), ObjectId('621d0ef7bf7c8b37415dd01b'), ObjectId('621d0ef7bf7c8b37415dd01c'), ObjectId('621d0ef7bf7c8b37415dd01d'), ObjectId('621d0ef7bf7c8b37415dd01e'), ObjectId('621d0ef7bf7c8b37415dd01f'), ObjectId('621d0ef7bf7c8b37415dd020'), ObjectId('621d0ef7bf7c8b37415dd021'), ObjectId('621d0ef7bf7c8b37415dd022'), ObjectId('621d0ef7bf7c8b37415dd023'), ObjectId('621d0ef7bf7c8b37415dd024'), ObjectId('621d0ef7bf7c8b37415dd025'), ObjectId('621d0ef7bf7c8b37415dd026'), ObjectId('621d0ef7bf7c8b37415dd027'), ObjectId('621d0ef7bf7c8b37415dd028'), ObjectId('621d0ef7bf7c8b37415dd029'), ObjectId('621d0ef7bf7c8b37415dd02a'), ObjectId('621d0ef7bf7c8b37415dd02b'), ObjectId('621d0ef7bf7c8b37415dd02c'), ObjectId('621d0ef7bf7c8b37415dd02d'), ObjectId('621d0ef7bf7c8b37415dd02e'), ObjectId('621d0ef7bf7c8b37415dd02f'), ObjectId('621d0ef7bf7c8b37415dd030'), ObjectId('621d0ef7bf7c8b37415dd031'), ObjectId('621d0ef7bf7c8b37415dd032'), ObjectId('621d0ef7bf7c8b37415dd033'), ObjectId('621d0ef7bf7c8b37415dd034'), ObjectId('621d0ef7bf7c8b37415dd035'), ObjectId('621d0ef7bf7c8b37415dd036'), ObjectId('621d0ef7bf7c8b37415dd037'), ObjectId('621d0ef7bf7c8b37415dd038'), ObjectId('621d0ef7bf7c8b37415dd039'), ObjectId('621d0ef7bf7c8b37415dd03a'), ObjectId('621d0ef7bf7c8b37415dd03b'), ObjectId('621d0ef7bf7c8b37415dd03c'), ObjectId('621d0ef7bf7c8b37415dd03d'), ObjectId('621d0ef7bf7c8b37415dd03e'), ObjectId('621d0ef7bf7c8b37415dd03f'), ObjectId('621d0ef7bf7c8b37415dd040'), ObjectId('621d0ef7bf7c8b37415dd041'), ObjectId('621d0ef7bf7c8b37415dd042'), ObjectId('621d0ef7bf7c8b37415dd043'), ObjectId('621d0ef7bf7c8b37415dd044'), ObjectId('621d0ef7bf7c8b37415dd045'), ObjectId('621d0ef7bf7c8b37415dd046'), ObjectId('621d0ef7bf7c8b37415dd047'), ObjectId('621d0ef7bf7c8b37415dd048'), ObjectId('621d0ef7bf7c8b37415dd049'), ObjectId('621d0ef7bf7c8b37415dd04a'), ObjectId('621d0ef7bf7c8b37415dd04b'), ObjectId('621d0ef7bf7c8b37415dd04c'), ObjectId('621d0ef7bf7c8b37415dd04d'), ObjectId('621d0ef7bf7c8b37415dd04e'), ObjectId('621d0ef7bf7c8b37415dd04f'), ObjectId('621d0ef7bf7c8b37415dd050'), ObjectId('621d0ef7bf7c8b37415dd051'), ObjectId('621d0ef7bf7c8b37415dd052'), ObjectId('621d0ef7bf7c8b37415dd053'), ObjectId('621d0ef7bf7c8b37415dd054'), ObjectId('621d0ef7bf7c8b37415dd055'), ObjectId('621d0ef7bf7c8b37415dd056'), ObjectId('621d0ef7bf7c8b37415dd057'), ObjectId('621d0ef7bf7c8b37415dd058'), ObjectId('621d0ef7bf7c8b37415dd059'), ObjectId('621d0ef7bf7c8b37415dd05a'), ObjectId('621d0ef7bf7c8b37415dd05b'), ObjectId('621d0ef7bf7c8b37415dd05c'), ObjectId('621d0ef7bf7c8b37415dd05d'), ObjectId('621d0ef7bf7c8b37415dd05e'), ObjectId('621d0ef7bf7c8b37415dd05f'), ObjectId('621d0ef7bf7c8b37415dd060'), ObjectId('621d0ef7bf7c8b37415dd061'), ObjectId('621d0ef7bf7c8b37415dd062'), ObjectId('621d0ef7bf7c8b37415dd063'), ObjectId('621d0ef7bf7c8b37415dd064'), ObjectId('621d0ef7bf7c8b37415dd065'), ObjectId('621d0ef7bf7c8b37415dd066'), ObjectId('621d0ef7bf7c8b37415dd067'), ObjectId('621d0ef7bf7c8b37415dd068'), ObjectId('621d0ef7bf7c8b37415dd069'), ObjectId('621d0ef7bf7c8b37415dd06a'), ObjectId('621d0ef7bf7c8b37415dd06b'), ObjectId('621d0ef7bf7c8b37415dd06c'), ObjectId('621d0ef7bf7c8b37415dd06d'), ObjectId('621d0ef7bf7c8b37415dd06e'), ObjectId('621d0ef7bf7c8b37415dd06f'), ObjectId('621d0ef7bf7c8b37415dd070'), ObjectId('621d0ef7bf7c8b37415dd071'), ObjectId('621d0ef7bf7c8b37415dd072'), ObjectId('621d0ef7bf7c8b37415dd073'), ObjectId('621d0ef7bf7c8b37415dd074'), ObjectId('621d0ef7bf7c8b37415dd075'), ObjectId('621d0ef7bf7c8b37415dd076'), ObjectId('621d0ef7bf7c8b37415dd077'), ObjectId('621d0ef7bf7c8b37415dd078'), ObjectId('621d0ef7bf7c8b37415dd079'), ObjectId('621d0ef7bf7c8b37415dd07a'), ObjectId('621d0ef7bf7c8b37415dd07b'), ObjectId('621d0ef7bf7c8b37415dd07c'), ObjectId('621d0ef7bf7c8b37415dd07d'), ObjectId('621d0ef7bf7c8b37415dd07e'), ObjectId('621d0ef7bf7c8b37415dd07f'), ObjectId('621d0ef7bf7c8b37415dd080'), ObjectId('621d0ef7bf7c8b37415dd081'), ObjectId('621d0ef7bf7c8b37415dd082'), ObjectId('621d0ef7bf7c8b37415dd083'), ObjectId('621d0ef7bf7c8b37415dd084'), ObjectId('621d0ef7bf7c8b37415dd085'), ObjectId('621d0ef7bf7c8b37415dd086'), ObjectId('621d0ef7bf7c8b37415dd087'), ObjectId('621d0ef7bf7c8b37415dd088'), ObjectId('621d0ef7bf7c8b37415dd089'), ObjectId('621d0ef7bf7c8b37415dd08a'), ObjectId('621d0ef7bf7c8b37415dd08b'), ObjectId('621d0ef7bf7c8b37415dd08c'), ObjectId('621d0ef7bf7c8b37415dd08d'), ObjectId('621d0ef7bf7c8b37415dd08e'), ObjectId('621d0ef7bf7c8b37415dd08f'), ObjectId('621d0ef7bf7c8b37415dd090'), ObjectId('621d0ef7bf7c8b37415dd091'), ObjectId('621d0ef7bf7c8b37415dd092'), ObjectId('621d0ef7bf7c8b37415dd093'), ObjectId('621d0ef7bf7c8b37415dd094'), ObjectId('621d0ef7bf7c8b37415dd095'), ObjectId('621d0ef7bf7c8b37415dd096'), ObjectId('621d0ef7bf7c8b37415dd097'), ObjectId('621d0ef7bf7c8b37415dd098'), ObjectId('621d0ef7bf7c8b37415dd099'), ObjectId('621d0ef7bf7c8b37415dd09a'), ObjectId('621d0ef7bf7c8b37415dd09b'), ObjectId('621d0ef7bf7c8b37415dd09c'), ObjectId('621d0ef7bf7c8b37415dd09d'), ObjectId('621d0ef7bf7c8b37415dd09e'), ObjectId('621d0ef7bf7c8b37415dd09f'), ObjectId('621d0ef7bf7c8b37415dd0a0'), ObjectId('621d0ef7bf7c8b37415dd0a1'), ObjectId('621d0ef7bf7c8b37415dd0a2'), ObjectId('621d0ef7bf7c8b37415dd0a3'), ObjectId('621d0ef7bf7c8b37415dd0a4'), ObjectId('621d0ef7bf7c8b37415dd0a5'), ObjectId('621d0ef7bf7c8b37415dd0a6'), ObjectId('621d0ef7bf7c8b37415dd0a7'), ObjectId('621d0ef7bf7c8b37415dd0a8'), ObjectId('621d0ef7bf7c8b37415dd0a9'), ObjectId('621d0ef7bf7c8b37415dd0aa'), ObjectId('621d0ef7bf7c8b37415dd0ab'), ObjectId('621d0ef7bf7c8b37415dd0ac'), ObjectId('621d0ef7bf7c8b37415dd0ad'), ObjectId('621d0ef7bf7c8b37415dd0ae'), ObjectId('621d0ef7bf7c8b37415dd0af'), ObjectId('621d0ef7bf7c8b37415dd0b0'), ObjectId('621d0ef7bf7c8b37415dd0b1'), ObjectId('621d0ef7bf7c8b37415dd0b2'), ObjectId('621d0ef7bf7c8b37415dd0b3'), ObjectId('621d0ef7bf7c8b37415dd0b4'), ObjectId('621d0ef7bf7c8b37415dd0b5'), ObjectId('621d0ef7bf7c8b37415dd0b6'), ObjectId('621d0ef7bf7c8b37415dd0b7'), ObjectId('621d0ef7bf7c8b37415dd0b8'), ObjectId('621d0ef7bf7c8b37415dd0b9'), ObjectId('621d0ef7bf7c8b37415dd0ba'), ObjectId('621d0ef7bf7c8b37415dd0bb'), ObjectId('621d0ef7bf7c8b37415dd0bc'), ObjectId('621d0ef7bf7c8b37415dd0bd'), ObjectId('621d0ef7bf7c8b37415dd0be'), ObjectId('621d0ef7bf7c8b37415dd0bf'), ObjectId('621d0ef7bf7c8b37415dd0c0'), ObjectId('621d0ef7bf7c8b37415dd0c1'), ObjectId('621d0ef7bf7c8b37415dd0c2'), ObjectId('621d0ef7bf7c8b37415dd0c3'), ObjectId('621d0ef7bf7c8b37415dd0c4'), ObjectId('621d0ef7bf7c8b37415dd0c5'), ObjectId('621d0ef7bf7c8b37415dd0c6'), ObjectId('621d0ef7bf7c8b37415dd0c7'), ObjectId('621d0ef7bf7c8b37415dd0c8'), ObjectId('621d0ef7bf7c8b37415dd0c9'), ObjectId('621d0ef7bf7c8b37415dd0ca'), ObjectId('621d0ef7bf7c8b37415dd0cb'), ObjectId('621d0ef7bf7c8b37415dd0cc'), ObjectId('621d0ef7bf7c8b37415dd0cd'), ObjectId('621d0ef7bf7c8b37415dd0ce'), ObjectId('621d0ef7bf7c8b37415dd0cf'), ObjectId('621d0ef7bf7c8b37415dd0d0'), ObjectId('621d0ef7bf7c8b37415dd0d1'), ObjectId('621d0ef7bf7c8b37415dd0d2'), ObjectId('621d0ef7bf7c8b37415dd0d3'), ObjectId('621d0ef7bf7c8b37415dd0d4'), ObjectId('621d0ef7bf7c8b37415dd0d5'), ObjectId('621d0ef7bf7c8b37415dd0d6'), ObjectId('621d0ef7bf7c8b37415dd0d7'), ObjectId('621d0ef7bf7c8b37415dd0d8'), ObjectId('621d0ef7bf7c8b37415dd0d9'), ObjectId('621d0ef7bf7c8b37415dd0da'), ObjectId('621d0ef7bf7c8b37415dd0db'), ObjectId('621d0ef7bf7c8b37415dd0dc'), ObjectId('621d0ef7bf7c8b37415dd0dd'), ObjectId('621d0ef7bf7c8b37415dd0de'), ObjectId('621d0ef7bf7c8b37415dd0df'), ObjectId('621d0ef7bf7c8b37415dd0e0'), ObjectId('621d0ef7bf7c8b37415dd0e1'), ObjectId('621d0ef7bf7c8b37415dd0e2'), ObjectId('621d0ef7bf7c8b37415dd0e3'), ObjectId('621d0ef7bf7c8b37415dd0e4'), ObjectId('621d0ef7bf7c8b37415dd0e5'), ObjectId('621d0ef7bf7c8b37415dd0e6'), ObjectId('621d0ef7bf7c8b37415dd0e7'), ObjectId('621d0ef7bf7c8b37415dd0e8'), ObjectId('621d0ef7bf7c8b37415dd0e9'), ObjectId('621d0ef7bf7c8b37415dd0ea'), ObjectId('621d0ef7bf7c8b37415dd0eb'), ObjectId('621d0ef7bf7c8b37415dd0ec'), ObjectId('621d0ef7bf7c8b37415dd0ed'), ObjectId('621d0ef7bf7c8b37415dd0ee'), ObjectId('621d0ef7bf7c8b37415dd0ef'), ObjectId('621d0ef7bf7c8b37415dd0f0'), ObjectId('621d0ef7bf7c8b37415dd0f1'), ObjectId('621d0ef7bf7c8b37415dd0f2'), ObjectId('621d0ef7bf7c8b37415dd0f3'), ObjectId('621d0ef7bf7c8b37415dd0f4'), ObjectId('621d0ef7bf7c8b37415dd0f5'), ObjectId('621d0ef7bf7c8b37415dd0f6'), ObjectId('621d0ef7bf7c8b37415dd0f7'), ObjectId('621d0ef7bf7c8b37415dd0f8'), ObjectId('621d0ef7bf7c8b37415dd0f9'), ObjectId('621d0ef7bf7c8b37415dd0fa'), ObjectId('621d0ef7bf7c8b37415dd0fb'), ObjectId('621d0ef7bf7c8b37415dd0fc'), ObjectId('621d0ef7bf7c8b37415dd0fd'), ObjectId('621d0ef7bf7c8b37415dd0fe'), ObjectId('621d0ef7bf7c8b37415dd0ff'), ObjectId('621d0ef7bf7c8b37415dd100'), ObjectId('621d0ef7bf7c8b37415dd101'), ObjectId('621d0ef7bf7c8b37415dd102'), ObjectId('621d0ef7bf7c8b37415dd103'), ObjectId('621d0ef7bf7c8b37415dd104'), ObjectId('621d0ef7bf7c8b37415dd105'), ObjectId('621d0ef7bf7c8b37415dd106'), ObjectId('621d0ef7bf7c8b37415dd107'), ObjectId('621d0ef7bf7c8b37415dd108'), ObjectId('621d0ef7bf7c8b37415dd109'), ObjectId('621d0ef7bf7c8b37415dd10a'), ObjectId('621d0ef7bf7c8b37415dd10b'), ObjectId('621d0ef7bf7c8b37415dd10c'), ObjectId('621d0ef7bf7c8b37415dd10d'), ObjectId('621d0ef7bf7c8b37415dd10e'), ObjectId('621d0ef7bf7c8b37415dd10f'), ObjectId('621d0ef7bf7c8b37415dd110'), ObjectId('621d0ef7bf7c8b37415dd111'), ObjectId('621d0ef7bf7c8b37415dd112'), ObjectId('621d0ef7bf7c8b37415dd113'), ObjectId('621d0ef7bf7c8b37415dd114'), ObjectId('621d0ef7bf7c8b37415dd115'), ObjectId('621d0ef7bf7c8b37415dd116'), ObjectId('621d0ef7bf7c8b37415dd117'), ObjectId('621d0ef7bf7c8b37415dd118'), ObjectId('621d0ef7bf7c8b37415dd119'), ObjectId('621d0ef7bf7c8b37415dd11a'), ObjectId('621d0ef7bf7c8b37415dd11b'), ObjectId('621d0ef7bf7c8b37415dd11c'), ObjectId('621d0ef7bf7c8b37415dd11d'), ObjectId('621d0ef7bf7c8b37415dd11e'), ObjectId('621d0ef7bf7c8b37415dd11f'), ObjectId('621d0ef7bf7c8b37415dd120'), ObjectId('621d0ef7bf7c8b37415dd121'), ObjectId('621d0ef7bf7c8b37415dd122'), ObjectId('621d0ef7bf7c8b37415dd123'), ObjectId('621d0ef7bf7c8b37415dd124'), ObjectId('621d0ef7bf7c8b37415dd125'), ObjectId('621d0ef7bf7c8b37415dd126'), ObjectId('621d0ef7bf7c8b37415dd127'), ObjectId('621d0ef7bf7c8b37415dd128'), ObjectId('621d0ef7bf7c8b37415dd129'), ObjectId('621d0ef7bf7c8b37415dd12a'), ObjectId('621d0ef7bf7c8b37415dd12b'), ObjectId('621d0ef7bf7c8b37415dd12c'), ObjectId('621d0ef7bf7c8b37415dd12d'), ObjectId('621d0ef7bf7c8b37415dd12e'), ObjectId('621d0ef7bf7c8b37415dd12f'), ObjectId('621d0ef7bf7c8b37415dd130'), ObjectId('621d0ef7bf7c8b37415dd131'), ObjectId('621d0ef7bf7c8b37415dd132'), ObjectId('621d0ef7bf7c8b37415dd133'), ObjectId('621d0ef7bf7c8b37415dd134'), ObjectId('621d0ef7bf7c8b37415dd135'), ObjectId('621d0ef7bf7c8b37415dd136'), ObjectId('621d0ef7bf7c8b37415dd137'), ObjectId('621d0ef7bf7c8b37415dd138'), ObjectId('621d0ef7bf7c8b37415dd139'), ObjectId('621d0ef7bf7c8b37415dd13a'), ObjectId('621d0ef7bf7c8b37415dd13b'), ObjectId('621d0ef7bf7c8b37415dd13c'), ObjectId('621d0ef7bf7c8b37415dd13d'), ObjectId('621d0ef7bf7c8b37415dd13e'), ObjectId('621d0ef7bf7c8b37415dd13f'), ObjectId('621d0ef7bf7c8b37415dd140'), ObjectId('621d0ef7bf7c8b37415dd141'), ObjectId('621d0ef7bf7c8b37415dd142'), ObjectId('621d0ef7bf7c8b37415dd143'), ObjectId('621d0ef7bf7c8b37415dd144'), ObjectId('621d0ef7bf7c8b37415dd145'), ObjectId('621d0ef7bf7c8b37415dd146'), ObjectId('621d0ef7bf7c8b37415dd147'), ObjectId('621d0ef7bf7c8b37415dd148'), ObjectId('621d0ef7bf7c8b37415dd149'), ObjectId('621d0ef7bf7c8b37415dd14a'), ObjectId('621d0ef7bf7c8b37415dd14b'), ObjectId('621d0ef7bf7c8b37415dd14c'), ObjectId('621d0ef7bf7c8b37415dd14d'), ObjectId('621d0ef7bf7c8b37415dd14e'), ObjectId('621d0ef7bf7c8b37415dd14f'), ObjectId('621d0ef7bf7c8b37415dd150'), ObjectId('621d0ef7bf7c8b37415dd151'), ObjectId('621d0ef7bf7c8b37415dd152'), ObjectId('621d0ef7bf7c8b37415dd153'), ObjectId('621d0ef7bf7c8b37415dd154'), ObjectId('621d0ef7bf7c8b37415dd155'), ObjectId('621d0ef7bf7c8b37415dd156')]\n"
     ]
    }
   ],
   "source": [
    "print(x.inserted_ids)"
   ]
  },
  {
   "cell_type": "code",
   "execution_count": null,
   "id": "5517c8cf",
   "metadata": {},
   "outputs": [],
   "source": []
  }
 ],
 "metadata": {
  "kernelspec": {
   "display_name": "Python 3",
   "language": "python",
   "name": "python3"
  },
  "language_info": {
   "codemirror_mode": {
    "name": "ipython",
    "version": 3
   },
   "file_extension": ".py",
   "mimetype": "text/x-python",
   "name": "python",
   "nbconvert_exporter": "python",
   "pygments_lexer": "ipython3",
   "version": "3.8.8"
  }
 },
 "nbformat": 4,
 "nbformat_minor": 5
}
